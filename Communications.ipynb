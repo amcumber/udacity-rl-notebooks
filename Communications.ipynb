{
 "cells": [
  {
   "cell_type": "code",
   "execution_count": 6,
   "id": "colonial-basin",
   "metadata": {},
   "outputs": [],
   "source": [
    "import scipy.signal as signal\n",
    "import numpy as np"
   ]
  },
  {
   "cell_type": "markdown",
   "id": "selective-anatomy",
   "metadata": {},
   "source": [
    "```matlab\n",
    "function [s,t,I,Q] = qpsk_mod(a,fc,OF)\n",
    "%Modulate an incoming binary stream using conventional QPSK\n",
    "%a - input binary data stream (0's and 1's) to modulate\n",
    "%fc - carrier frequency in Hertz\n",
    "%OF - oversampling factor (multiples of fc) - at least 4 is better\n",
    "%s - QPSK modulated signal with carrier\n",
    "%t - time base for the carrier modulated signal\n",
    "%I - baseband I channel waveform (no carrier)\n",
    "%Q - baseband Q channel waveform (no carrier)\n",
    "L = 2*OF;%samples in each symbol (QPSK has 2 bits in each symbol)\n",
    "ak = 2*a-1; %NRZ encoding 0-> -1, 1->+1\n",
    "I = ak(1:2:end);Q = ak(2:2:end);%even and odd bit streams\n",
    "I=repmat(I,1,L).'; Q=repmat(Q,1,L).';%even/odd streams at 1/2Tb baud\n",
    "I = I(:).'; Q = Q(:).'; %serialize\n",
    "fs = OF*fc; %sampling frequency\n",
    "t=0:1/fs:(length(I)-1)/fs; %time base\n",
    "iChannel = I.*cos(2*pi*fc*t);qChannel = -Q.*sin(2*pi*fc*t);\n",
    "s = iChannel + qChannel; %QPSK modulated baseband signal\n",
    "```"
   ]
  },
  {
   "cell_type": "code",
   "execution_count": null,
   "id": "banned-peeing",
   "metadata": {},
   "outputs": [],
   "source": [
    "def qpsk_mod(data: np.ndarray, freq_c: int, over_fact: int):\n",
    "    \"\"\"\n",
    "    QPSK Modulator\n",
    "    \n",
    "    Parameters\n",
    "    ----------\n",
    "    data : ndarray 1xn\n",
    "        Binary data - gray-coded or otherwise\n",
    "    freq_c: int\n",
    "        Carrier Frequency in Hz\n",
    "    over_fact : int\n",
    "        Oversampling Factor\n",
    "    \"\"\"\n",
    "    bit2symbol = 2\n",
    "    n_sps = bit2symbol * over_fact\n",
    "    nrz_data = 2 * data - 1\n",
    "    i_data, q_data = nrz_data[::2], nrz_data[1::2]\n",
    "    "
   ]
  },
  {
   "cell_type": "code",
   "execution_count": 3,
   "id": "material-tampa",
   "metadata": {},
   "outputs": [],
   "source": [
    "a = list(range(10))"
   ]
  },
  {
   "cell_type": "code",
   "execution_count": 5,
   "id": "suspected-spokesman",
   "metadata": {},
   "outputs": [
    {
     "data": {
      "text/plain": [
       "[1, 3, 5, 7, 9]"
      ]
     },
     "execution_count": 5,
     "metadata": {},
     "output_type": "execute_result"
    }
   ],
   "source": [
    "a[1::2]"
   ]
  },
  {
   "cell_type": "code",
   "execution_count": 12,
   "id": "approved-logan",
   "metadata": {},
   "outputs": [],
   "source": [
    "a = np.random.randint(0, 2, 10)"
   ]
  },
  {
   "cell_type": "code",
   "execution_count": 17,
   "id": "permanent-relationship",
   "metadata": {},
   "outputs": [
    {
     "data": {
      "text/plain": [
       "array([1, 1, 0, 1, 1, 0, 1, 1, 1, 1])"
      ]
     },
     "execution_count": 17,
     "metadata": {},
     "output_type": "execute_result"
    }
   ],
   "source": [
    "a"
   ]
  },
  {
   "cell_type": "code",
   "execution_count": 29,
   "id": "promotional-nature",
   "metadata": {},
   "outputs": [
    {
     "data": {
      "text/plain": [
       "array([[1],\n",
       "       [1],\n",
       "       [1],\n",
       "       [1],\n",
       "       [0],\n",
       "       [0],\n",
       "       [1],\n",
       "       [1],\n",
       "       [1],\n",
       "       [1],\n",
       "       [0],\n",
       "       [0],\n",
       "       [1],\n",
       "       [1],\n",
       "       [1],\n",
       "       [1],\n",
       "       [1],\n",
       "       [1],\n",
       "       [1],\n",
       "       [1]])"
      ]
     },
     "execution_count": 29,
     "metadata": {},
     "output_type": "execute_result"
    }
   ],
   "source": [
    "np.repeat(a.reshape(-1,1), 2, axis=1).reshape(-1, 1)"
   ]
  },
  {
   "cell_type": "code",
   "execution_count": 26,
   "id": "domestic-animal",
   "metadata": {},
   "outputs": [
    {
     "data": {
      "text/plain": [
       "array([1, 1, 0, 1, 1, 0, 1, 1, 1, 1])"
      ]
     },
     "execution_count": 26,
     "metadata": {},
     "output_type": "execute_result"
    }
   ],
   "source": [
    "a.reshape(-1, 1).repeat("
   ]
  },
  {
   "cell_type": "code",
   "execution_count": null,
   "id": "hybrid-airplane",
   "metadata": {},
   "outputs": [],
   "source": []
  }
 ],
 "metadata": {
  "kernelspec": {
   "display_name": "GNU Radio",
   "language": "python",
   "name": "gnuradio"
  },
  "language_info": {
   "codemirror_mode": {
    "name": "ipython",
    "version": 3
   },
   "file_extension": ".py",
   "mimetype": "text/x-python",
   "name": "python",
   "nbconvert_exporter": "python",
   "pygments_lexer": "ipython3",
   "version": "3.7.10"
  }
 },
 "nbformat": 4,
 "nbformat_minor": 5
}
